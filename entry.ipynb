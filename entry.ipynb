{
 "cells": [
  {
   "cell_type": "code",
   "execution_count": null,
   "id": "2ba6bdf5",
   "metadata": {},
   "outputs": [
    {
     "name": "stdout",
     "output_type": "stream",
     "text": [
      "50\n",
      "Number of queries: 50\n",
      "data/santos/datalake\n",
      "550\n",
      "From 550 total data-lake tables, scale down to 550 tables\n"
     ]
    }
   ],
   "source": [
    "import test_naive_search_Novelty\n",
    "\n",
    "args2 = ['--encoder', 'cl', '--benchmark', 'santos', \n",
    "        '--augment_op', 'drop_col','--sample_meth', 'tfidf_entity',\n",
    "        '--matching', 'exact',   '--table_order', 'column',\n",
    "        '--run_id', '0' ,   '--K','10' , '--threshold', '0.7', '--penalty', '0']\n",
    "\n",
    "test_naive_search_Novelty.main(args2)\n",
    "\n",
    " "
   ]
  },
  {
   "cell_type": "code",
   "execution_count": null,
   "id": "2787307a",
   "metadata": {},
   "outputs": [],
   "source": []
  }
 ],
 "metadata": {
  "kernelspec": {
   "display_name": "Python 3 (ipykernel)",
   "language": "python",
   "name": "python3"
  },
  "language_info": {
   "codemirror_mode": {
    "name": "ipython",
    "version": 3
   },
   "file_extension": ".py",
   "mimetype": "text/x-python",
   "name": "python",
   "nbconvert_exporter": "python",
   "pygments_lexer": "ipython3",
   "version": "3.7.10"
  }
 },
 "nbformat": 4,
 "nbformat_minor": 5
}
